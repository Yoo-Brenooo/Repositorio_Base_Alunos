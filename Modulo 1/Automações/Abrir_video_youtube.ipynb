{
 "cells": [
  {
   "cell_type": "markdown",
   "id": "18e3ddb8",
   "metadata": {},
   "source": [
    "# Abrir um video do Youtube"
   ]
  },
  {
   "cell_type": "code",
   "execution_count": null,
   "id": "712ea298",
   "metadata": {},
   "outputs": [
    {
     "ename": "KeyboardInterrupt",
     "evalue": "",
     "output_type": "error",
     "traceback": [
      "\u001b[31m---------------------------------------------------------------------------\u001b[39m\n",
      "\u001b[31mKeyboardInterrupt\u001b[39m                         Traceback (most recent call last)\n",
      "\u001b[36mCell\u001b[39m\u001b[36m \u001b[39m\u001b[32mIn[61]\u001b[39m\u001b[32m, line 79\u001b[39m\n",
      "\u001b[32m     77\u001b[39m aut.sleep(\u001b[32m1\u001b[39m)\n",
      "\u001b[32m     78\u001b[39m aut.click()\n",
      "\u001b[32m---> \u001b[39m\u001b[32m79\u001b[39m \u001b[43maut\u001b[49m\u001b[43m.\u001b[49m\u001b[43msleep\u001b[49m\u001b[43m(\u001b[49m\u001b[32;43m1\u001b[39;49m\u001b[43m)\u001b[49m\n",
      "\u001b[32m     80\u001b[39m aut.moveTo(\u001b[32m616\u001b[39m,\u001b[32m458\u001b[39m)\n",
      "\u001b[32m     81\u001b[39m aut.sleep(\u001b[32m1\u001b[39m)\n",
      "\n",
      "\u001b[36mFile \u001b[39m\u001b[32m~\\AppData\\Roaming\\Python\\Python313\\site-packages\\pyautogui\\__init__.py:1806\u001b[39m, in \u001b[36msleep\u001b[39m\u001b[34m(seconds)\u001b[39m\n",
      "\u001b[32m   1805\u001b[39m \u001b[38;5;28;01mdef\u001b[39;00m\u001b[38;5;250m \u001b[39m\u001b[34msleep\u001b[39m(seconds):\n",
      "\u001b[32m-> \u001b[39m\u001b[32m1806\u001b[39m     \u001b[43mtime\u001b[49m\u001b[43m.\u001b[49m\u001b[43msleep\u001b[49m\u001b[43m(\u001b[49m\u001b[43mseconds\u001b[49m\u001b[43m)\u001b[49m\n",
      "\n",
      "\u001b[31mKeyboardInterrupt\u001b[39m: "
     ]
    }
   ],
   "source": [
    "import pyautogui as aut\n",
    "\n",
    "# Abrir a janela do Windowns\n",
    "aut.press(\"win\")\n",
    "aut.sleep(1)\n",
    "\n",
    "# Entrar Google\n",
    "aut.write(\"google\")\n",
    "aut.press(\"enter\")\n",
    "\n",
    "# Logar em uma conta visitante\n",
    "aut.sleep(1)\n",
    "aut.moveTo(579,845)\n",
    "aut.click()\n",
    "\n",
    "# Entrar no Youtube\n",
    "aut.sleep(1)\n",
    "aut.write(\"youtube.com\")\n",
    "aut.press(\"enter\")\n",
    "\n",
    "# Pesquisar o Video\n",
    "aut.sleep(30)\n",
    "aut.moveTo(487,120)\n",
    "aut.click()\n",
    "aut.write(\"Yeat Talk\")\n",
    "aut.press(\"enter\")\n",
    "\n",
    "# Entrar no Video\n",
    "aut.sleep(3)\n",
    "aut.moveTo(283,306)\n",
    "aut.sleep(2)\n",
    "aut.click()"
   ]
  }
 ],
 "metadata": {
  "language_info": {
   "name": "python"
  }
 },
 "nbformat": 4,
 "nbformat_minor": 5
}
