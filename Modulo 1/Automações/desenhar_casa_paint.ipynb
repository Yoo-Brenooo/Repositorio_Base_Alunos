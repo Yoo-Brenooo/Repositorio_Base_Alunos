{
 "cells": [
  {
   "cell_type": "code",
   "execution_count": 18,
   "id": "3e778a92",
   "metadata": {},
   "outputs": [],
   "source": [
    "import pyautogui as aut\n",
    "\n",
    "# Abrir a janela do Windowns\n",
    "aut.press(\"win\")\n",
    "aut.sleep(1)\n",
    "\n",
    "# Entrar Paint\n",
    "aut.write(\"paint\")\n",
    "aut.press(\"enter\")\n",
    "\n",
    "# Usar o Retãngulo\n",
    "aut.sleep(2)\n",
    "aut.moveTo(715,195)\n",
    "aut.click()\n",
    "aut.sleep(1)\n",
    "aut.dragTo(680,561)\n",
    "aut.sleep(1)\n",
    "aut.dragTo(1155,862)\n",
    "aut.sleep(1)\n",
    "aut.moveTo(777,197)\n",
    "aut.sleep(1)\n",
    "aut.click()\n",
    "aut.dragTo(616,557)\n",
    "aut.sleep(1)\n",
    "aut.dragTo(1220,386)"
   ]
  }
 ],
 "metadata": {
  "kernelspec": {
   "display_name": "Python 3",
   "language": "python",
   "name": "python3"
  },
  "language_info": {
   "codemirror_mode": {
    "name": "ipython",
    "version": 3
   },
   "file_extension": ".py",
   "mimetype": "text/x-python",
   "name": "python",
   "nbconvert_exporter": "python",
   "pygments_lexer": "ipython3",
   "version": "3.13.2"
  }
 },
 "nbformat": 4,
 "nbformat_minor": 5
}
