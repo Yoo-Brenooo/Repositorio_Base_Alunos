{
 "cells": [
  {
   "cell_type": "markdown",
   "id": "d2b6c514",
   "metadata": {},
   "source": [
    "### 🚀 Exercícios Melhorados de Python: Listas e Loops for"
   ]
  },
  {
   "cell_type": "markdown",
   "id": "44a3875e",
   "metadata": {},
   "source": [
    "### 🔍 1. Filtro de Filmes por Gênero 🎬\n",
    "\n",
    "Desafio:\n",
    "\n",
    "Crie um loop for para percorrer a lista de filmes e de gêneros e depois mostre na tela apenas os filmes de ação."
   ]
  },
  {
   "cell_type": "code",
   "execution_count": null,
   "id": "365515ab",
   "metadata": {},
   "outputs": [
    {
     "name": "stdout",
     "output_type": "stream",
     "text": [
      "O filme Vingadores: Ultimato é de Ação\n",
      "O filme Velozes e Furiosos é de Ação\n",
      "O filme Missão Impossível é de Ação\n"
     ]
    }
   ],
   "source": [
    "filmes = [\"O Poderoso Chefão\", \"Vingadores: Ultimato\", \"Toy Story\", \"Velozes e Furiosos\", \"Missão Impossível\", \"De Volta para o Futuro\",\"Zodiaco\"]\n",
    "generos = [\"Drama\", \"Ação\", \"Animação\", \"Ação\",\"Ação\", \"Aventura\", \"Suspense\"]\n",
    "\n",
    "### Seu código aqui\n",
    "\n",
    "for i in range(len(generos)):\n",
    "    if generos[i] == \"Ação\":\n",
    "        print(f\"O filme {filmes[i]} é de {generos[i]}\")"
   ]
  },
  {
   "cell_type": "markdown",
   "id": "4def914a",
   "metadata": {},
   "source": [
    "Agora crie um código que verfique a nota de cada filme e recomende para o usuário os filmes com notas superioes a 7.0"
   ]
  },
  {
   "cell_type": "code",
   "execution_count": 14,
   "id": "52470059",
   "metadata": {},
   "outputs": [
    {
     "name": "stdout",
     "output_type": "stream",
     "text": [
      "O filme O Poderoso Chefão é muito bom, recomendo.\n",
      "O filme Vingadores : Ultimato é muito bom, recomendo.\n",
      "O filme Toy Story é muito bom, recomendo.\n",
      "O filme Missão Impossível é muito bom, recomendo.\n",
      "O filme De Volta para o Futuro é muito bom, recomendo.\n",
      "O filme Zodiaco é muito bom, recomendo.\n"
     ]
    }
   ],
   "source": [
    "filmes = [\"O Poderoso Chefão\", \"Vingadores : Ultimato\", \"Toy Story\", \"Velozes e Furiosos\", \"Missão Impossível\", \"De Volta para o Futuro\", \"Zodiaco\", \"Thunderbolts\"]\n",
    "generos = [\"Drama\", \"Ação\", \"Animação\", \"Ação\",\"Ação\", \"Aventura\", \"Suspense\"]\n",
    "notas_filmes = [9.0, 9.5, 10, 5.2, 8.0, 10, 9.8, 5.5]\n",
    "\n",
    "### Seu código aqui\n",
    "\n",
    "for i in range(len(notas_filmes)):\n",
    "    if notas_filmes[i] > 7.0:\n",
    "        print(f\"O filme {filmes[i]} é muito bom, recomendo.\")\n"
   ]
  },
  {
   "cell_type": "markdown",
   "id": "8c04f1b7",
   "metadata": {},
   "source": [
    "### 📊 2. Análise de Dados de Redes Sociais 📱"
   ]
  },
  {
   "cell_type": "markdown",
   "id": "939eeec4",
   "metadata": {},
   "source": [
    "Você tem uma lista de likes por postagem:\n",
    "\n",
    "Desafio:\n",
    "\n",
    "Calcule a média de likes.\n",
    "\n",
    "\n",
    "Identifique quantos posts estão acima da média e print:\n",
    "\n",
    "\n",
    "\"📈 [X] posts bombaram (+ que [média] likes)\""
   ]
  },
  {
   "cell_type": "code",
   "execution_count": 15,
   "id": "5b380686",
   "metadata": {},
   "outputs": [
    {
     "name": "stdout",
     "output_type": "stream",
     "text": [
      "O influenciador Virginia tem 120 likes, é abaixo da média \n",
      "O influenciador Carlinhos Maia tem 245 likes, é acima da média \n",
      "O influenciador Deolane tem 89 likes, é abaixo da média \n",
      "O influenciador Poze tem 310 likes, é acima da média \n",
      "O influenciador Matheus Costa tem 42 likes, é abaixo da média \n",
      "O influenciador Zé Felipe tem 178 likes, é abaixo da média \n"
     ]
    }
   ],
   "source": [
    "## Nome dos influencers\n",
    "influencers = [\"Virginia\", \"Carlinhos Maia\", \"Deolane\", \"Poze\", \"Matheus Costa\",\"Zé Felipe\"]\n",
    "### likes por post\n",
    "like_posts = [120, 245, 89, 310, 42, 178] \n",
    "## Calcula o total de likes da lista\n",
    "total_likes = sum(like_posts)\n",
    "\n",
    "# Sua vez calcule á media de likes\n",
    "total_likes = total_likes / 5\n",
    "\n",
    "# Depois veja qual influencer teve likes acima da média\n",
    "for i in range(len(influencers)):\n",
    "    nome = influencers[i]\n",
    "    like = like_posts[i]\n",
    "    if like > total_likes:\n",
    "        print(f\"O influenciador {nome} tem {like} likes, é acima da média \")\n",
    "    elif like == total_likes:\n",
    "        print(f\"O influenciador {nome} tem {like} likes, é igual a da média \")\n",
    "    else:\n",
    "        print(f\"O influenciador {nome} tem {like} likes, é abaixo da média \")\n",
    "\n"
   ]
  },
  {
   "cell_type": "markdown",
   "id": "d7cfa84f",
   "metadata": {},
   "source": [
    "### 🎯 Bônus Extra: Desafio dos Emojis Aleatórios\n",
    "\n",
    "✅ Gere uma lista de 10 emojis aleatórios (use [\"🐍\", \"🔥\", \"🎮\", \"👾\", \"🚀\"]) e:\n",
    "\n",
    "✅ Conte quantas vezes \"🔥\" aparece.\n",
    "\n",
    "\n",
    "✅ Substitua \"🎮\" por \"💻\".\n",
    "\n",
    "\n",
    "✅ Print a lista final."
   ]
  },
  {
   "cell_type": "code",
   "execution_count": 53,
   "id": "28ab2513",
   "metadata": {},
   "outputs": [
    {
     "name": "stdout",
     "output_type": "stream",
     "text": [
      "['🐍', '🔥', '💻', '👾', '🚀', '🔥', '🔥', '🔥', '🔥🔥🚀🔥🔥🔥🚀🔥🔥🔥🔥👾🔥🔥🔥🔥🔥🚀🔥🔥🔥🔥🔥🔥🔥👾🔥🔥🔥🔥🔥🔥🔥🚀🔥🔥🔥', '🔥🔥']\n",
      "Teve 4 foguinhos\n"
     ]
    }
   ],
   "source": [
    "lista_emojis = [\"🐍\", \"🔥\", \"🎮\", \"👾\", \"🚀\",\"🔥\",\"🔥\",\"🔥\",\"🔥🔥🚀🔥🔥🔥🚀🔥🔥🔥🔥👾🔥🔥🔥🔥🔥🚀🔥🔥🔥🔥🔥🔥🔥👾🔥🔥🔥🔥🔥🔥🔥🚀🔥🔥🔥\",\"🔥🔥\"]\n",
    "contarFogo = 0\n",
    "\n",
    "for i in range(len(lista_emojis)):\n",
    "    if lista_emojis[i] == \"🔥\":\n",
    "        contarFogo += 1\n",
    "    elif lista_emojis[i] == \"🎮\":\n",
    "        lista_emojis.remove(\"🎮\")\n",
    "        lista_emojis.insert(i, \"💻\")\n",
    "\n",
    "print(lista_emojis)\n",
    "print(f\"Teve {contarFogo} foguinhos\")\n"
   ]
  },
  {
   "cell_type": "code",
   "execution_count": 54,
   "id": "2504dfa2",
   "metadata": {},
   "outputs": [
    {
     "name": "stdout",
     "output_type": "stream",
     "text": [
      "4\n",
      "['🐍', '🔥', '💻', '👾', '🚀', '🔥', '🔥', '🔥', '🔥🔥🚀🔥🔥🔥🚀🔥🔥🔥🔥👾🔥🔥🔥🔥🔥🚀🔥🔥🔥🔥🔥🔥🔥👾🔥🔥🔥🔥🔥🔥🔥🚀🔥🔥🔥', '🔥🔥']\n"
     ]
    }
   ],
   "source": [
    "lista_emojis = [\"🐍\", \"🔥\", \"🎮\", \"👾\", \"🚀\",\"🔥\",\"🔥\",\"🔥\",\"🔥🔥🚀🔥🔥🔥🚀🔥🔥🔥🔥👾🔥🔥🔥🔥🔥🚀🔥🔥🔥🔥🔥🔥🔥👾🔥🔥🔥🔥🔥🔥🔥🚀🔥🔥🔥\",\"🔥🔥\"]\n",
    "\n",
    "print(lista_emojis.count(\"🔥\"))\n",
    "\n",
    "lista_emojis[2] = \"💻\"\n",
    "\n",
    "print(lista_emojis)"
   ]
  }
 ],
 "metadata": {
  "kernelspec": {
   "display_name": "Python 3",
   "language": "python",
   "name": "python3"
  },
  "language_info": {
   "codemirror_mode": {
    "name": "ipython",
    "version": 3
   },
   "file_extension": ".py",
   "mimetype": "text/x-python",
   "name": "python",
   "nbconvert_exporter": "python",
   "pygments_lexer": "ipython3",
   "version": "3.13.2"
  }
 },
 "nbformat": 4,
 "nbformat_minor": 5
}
