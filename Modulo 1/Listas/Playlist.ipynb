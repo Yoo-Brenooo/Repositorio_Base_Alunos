{
 "cells": [
  {
   "cell_type": "markdown",
   "id": "836fe349",
   "metadata": {},
   "source": [
    "### Minha Playlist"
   ]
  },
  {
   "cell_type": "code",
   "execution_count": 2,
   "id": "f80e2fab",
   "metadata": {},
   "outputs": [
    {
     "name": "stdout",
     "output_type": "stream",
     "text": [
      "Talk - Yeat\n"
     ]
    }
   ],
   "source": [
    "lista = [\"Talk - Yeat\", \"Rollin - Yeat\", \"Sorry Bout That - Yeat\", \"Dub - Yeat\", \"Luv Monëy - Yeat\"]\n",
    "\n",
    "print(lista[0])"
   ]
  },
  {
   "cell_type": "markdown",
   "id": "154dff50",
   "metadata": {},
   "source": [
    "### Desafio"
   ]
  },
  {
   "cell_type": "code",
   "execution_count": 4,
   "id": "d0c1c39d",
   "metadata": {},
   "outputs": [
    {
     "name": "stdout",
     "output_type": "stream",
     "text": [
      "['Talk', 'Rollin', 'Sorry Bout That', 'Dub', 'Luv Money']\n"
     ]
    }
   ],
   "source": [
    "lista = []\n",
    "quantidade = int(input(\"Digite o numero do tamanho da lista: \"))\n",
    "\n",
    "for item in range(quantidade):\n",
    "    musica = input(\"Digite o nome da musica: \")\n",
    "    lista.append(musica)\n",
    "\n",
    "print(lista)\n",
    "    "
   ]
  }
 ],
 "metadata": {
  "kernelspec": {
   "display_name": "Python 3",
   "language": "python",
   "name": "python3"
  },
  "language_info": {
   "codemirror_mode": {
    "name": "ipython",
    "version": 3
   },
   "file_extension": ".py",
   "mimetype": "text/x-python",
   "name": "python",
   "nbconvert_exporter": "python",
   "pygments_lexer": "ipython3",
   "version": "3.13.2"
  }
 },
 "nbformat": 4,
 "nbformat_minor": 5
}
