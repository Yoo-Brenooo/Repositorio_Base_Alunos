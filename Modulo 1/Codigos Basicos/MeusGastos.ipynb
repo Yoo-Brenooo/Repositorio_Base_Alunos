{
 "cells": [
  {
   "cell_type": "markdown",
   "id": "02005d62",
   "metadata": {},
   "source": [
    "### CLT"
   ]
  },
  {
   "cell_type": "code",
   "execution_count": null,
   "id": "ba0e31a9",
   "metadata": {},
   "outputs": [
    {
     "name": "stdout",
     "output_type": "stream",
     "text": [
      "Voce ficara devendo: -2570\n"
     ]
    }
   ],
   "source": [
    "salario = 1200\n",
    "gasolina = 200\n",
    "internet = 200\n",
    "alimentos = 1500\n",
    "agua = 100\n",
    "luz = 300\n",
    "condominio = 570\n",
    "entretenimento = 1200\n",
    "\n",
    "devendo = salario - gasolina - internet - alimentos - agua - condominio - entretenimento\n",
    "\n",
    "print(f\"Voce ficara devendo: {devendo}\")\n"
   ]
  },
  {
   "cell_type": "markdown",
   "id": "6c818a65",
   "metadata": {},
   "source": [
    "### MEUS GASTOS"
   ]
  },
  {
   "cell_type": "code",
   "execution_count": null,
   "id": "c0840768",
   "metadata": {},
   "outputs": [
    {
     "name": "stdout",
     "output_type": "stream",
     "text": [
      "Eu fico devendo: -750\n"
     ]
    }
   ],
   "source": [
    "salario = 0\n",
    "\n",
    "\n",
    "\n",
    "\n",
    "corte = 70\n",
    "comida = 300\n",
    "energia = 100\n",
    "agua = 80\n",
    "internet = 300\n",
    "\n",
    "devendo = salario - corte - internet - comida - agua\n",
    "\n",
    "print(f\"Eu fico devendo: {devendo}\")"
   ]
  }
 ],
 "metadata": {
  "kernelspec": {
   "display_name": "Python 3",
   "language": "python",
   "name": "python3"
  },
  "language_info": {
   "codemirror_mode": {
    "name": "ipython",
    "version": 3
   },
   "file_extension": ".py",
   "mimetype": "text/x-python",
   "name": "python",
   "nbconvert_exporter": "python",
   "pygments_lexer": "ipython3",
   "version": "3.13.2"
  }
 },
 "nbformat": 4,
 "nbformat_minor": 5
}
