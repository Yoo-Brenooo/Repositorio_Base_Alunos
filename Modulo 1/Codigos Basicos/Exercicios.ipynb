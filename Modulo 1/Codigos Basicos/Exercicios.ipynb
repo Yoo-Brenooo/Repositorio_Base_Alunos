{
 "cells": [
  {
   "cell_type": "markdown",
   "id": "3d3df9b6",
   "metadata": {},
   "source": [
    "### Exercicio Adivinha"
   ]
  },
  {
   "cell_type": "code",
   "execution_count": 3,
   "id": "b91e8a54",
   "metadata": {},
   "outputs": [
    {
     "name": "stdout",
     "output_type": "stream",
     "text": [
      "Irei Adivinhar o seu numero: \n",
      "\n",
      "\n",
      "Deixa eu pensar.....\n",
      "\n",
      "\n",
      "O seu numero é o numero 5.0\n"
     ]
    }
   ],
   "source": [
    "import time\n",
    "print(\"Irei Adivinhar o seu numero: \")\n",
    "print(\"\\n\")\n",
    "num = float(input(\"Digite o seu numero: \"))\n",
    "print(\"Deixa eu pensar.....\")\n",
    "time.sleep(2)\n",
    "print(\"\\n\")\n",
    "print(f\"O seu numero é o numero {num}\")"
   ]
  },
  {
   "cell_type": "markdown",
   "id": "4bed51be",
   "metadata": {},
   "source": [
    "### Carro"
   ]
  },
  {
   "cell_type": "code",
   "execution_count": 7,
   "id": "fb8f65bc",
   "metadata": {},
   "outputs": [
    {
     "name": "stdout",
     "output_type": "stream",
     "text": [
      "Carro: Koenigsegg Jesko Absolut\n",
      "Preço do carro: 6000000.0\n",
      "Dinheiro no banco: 100.0\n",
      "Dinheiro faltando: 5999900.0\n"
     ]
    }
   ],
   "source": [
    "# 1º Primeiro peça ao usuário o nome do carro dos sonhos:\n",
    "nome_carro = input(\"Digite o nome do seu carro do sonho:\")\n",
    "# 2º Peça o preço do carro dos sonhos\n",
    "preco = float(input(\"Digite quanto custa o carro: \"))\n",
    "# 3º Pergunte quanto dinheiro o usuário tem e guarde o valor em uma variável\n",
    "banco = float(input(\"Digite quanto dinheiro voce possui: \"))\n",
    "# 4º Calcule quanto falta para o usuário conseguir comprar o carro\n",
    "dinheiro = preco - banco\n",
    "# 5º Mostre na tela o nome do carro o preço dele e quanto falta para o usuário realizar o sonho dele.\n",
    "print(f\"Carro: {nome_carro}\")\n",
    "print(f\"Preço do carro: {preco}\")\n",
    "print(f\"Dinheiro no banco: {banco}\")\n",
    "print(f\"Dinheiro faltando: {dinheiro}\")\n"
   ]
  },
  {
   "cell_type": "markdown",
   "id": "ba113482",
   "metadata": {},
   "source": [
    "### Agenda de Celular"
   ]
  },
  {
   "cell_type": "code",
   "execution_count": null,
   "id": "b3074b84",
   "metadata": {},
   "outputs": [
    {
     "name": "stdout",
     "output_type": "stream",
     "text": [
      "Seu nome é Breno e seu numero é 55 11 91145-7839\n"
     ]
    }
   ],
   "source": [
    "# preciso pedir o nome do usuário\n",
    "nome = input(\"Digite seu nome: \")\n",
    "#preciso pedir o telefone\n",
    "num = input(\"Digite seu numero de celular: \")\n",
    "# mostrar as informações\n",
    "print(f\"Seu nome é {nome} e seu numero é {num}\")"
   ]
  },
  {
   "cell_type": "markdown",
   "id": "f321043b",
   "metadata": {},
   "source": [
    "### Adivinhar Idade"
   ]
  },
  {
   "cell_type": "code",
   "execution_count": 3,
   "id": "adf82316",
   "metadata": {},
   "outputs": [
    {
     "name": "stdout",
     "output_type": "stream",
     "text": [
      "Você tem 41 anos\n"
     ]
    }
   ],
   "source": [
    "ano_atual = int(input(\"Digite o ano atual: \"))\n",
    "ano_nascimento = int(input(\"Digite o seu ano de nascimento: \"))\n",
    "\n",
    "idade = ano_atual - ano_nascimento\n",
    "\n",
    "print(f\"Você tem {idade} anos\")"
   ]
  }
 ],
 "metadata": {
  "kernelspec": {
   "display_name": "Python 3",
   "language": "python",
   "name": "python3"
  },
  "language_info": {
   "codemirror_mode": {
    "name": "ipython",
    "version": 3
   },
   "file_extension": ".py",
   "mimetype": "text/x-python",
   "name": "python",
   "nbconvert_exporter": "python",
   "pygments_lexer": "ipython3",
   "version": "3.13.2"
  }
 },
 "nbformat": 4,
 "nbformat_minor": 5
}
