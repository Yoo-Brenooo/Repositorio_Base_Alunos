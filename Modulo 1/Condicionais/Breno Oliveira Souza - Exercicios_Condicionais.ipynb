{
 "cells": [
  {
   "cell_type": "markdown",
   "id": "633160a3",
   "metadata": {},
   "source": [
    "### 📝Lista de Exercícios: Condicionais IF/ELSE"
   ]
  },
  {
   "cell_type": "markdown",
   "id": "605d2a7e",
   "metadata": {},
   "source": [
    "Exercício 1 - Maioridade 🔞\n",
    "\n",
    "Crie um programa que pergunta a idade do usuário e diz se ele é maior ou menor de idade."
   ]
  },
  {
   "cell_type": "code",
   "execution_count": null,
   "id": "93ea230f",
   "metadata": {},
   "outputs": [],
   "source": [
    "idade = int(input(\"Quantos anos você tem? \"))\n",
    "\n",
    "# Complete o código aqui\n",
    "\n",
    "if idade >= 18:\n",
    "    print(\"Você é maior de idade\")\n",
    "else:\n",
    "    print(\"Você é menor de idade\")\n"
   ]
  },
  {
   "cell_type": "markdown",
   "id": "6e9528f5",
   "metadata": {},
   "source": [
    "Exercício 2 - Aprovação na Prova 🧠\n",
    "\n",
    "Faça um programa que pergunte a nota de um aluno (0 a 10) e diz se ele foi aprovado(nota >= 5) ou reprovado (nota <5)."
   ]
  },
  {
   "cell_type": "code",
   "execution_count": null,
   "id": "4a9f8f8b",
   "metadata": {},
   "outputs": [],
   "source": [
    "nota = float(input(\"Informe a sua nota de (0 a 10)\"))\n",
    "\n",
    "# Complete o código aqui\n",
    "\n",
    "if nota >= 5:\n",
    "    print(\"Você está aprovado\")\n",
    "else:\n",
    "    print(\"Você foi reprovado\")"
   ]
  },
  {
   "cell_type": "markdown",
   "id": "9f8e9b92",
   "metadata": {},
   "source": [
    "Exercicio 3 - CNH 🚘🚙\n",
    "\n",
    " 1º - Peça ao usuário que digite a idade dele.\n",
    "\n",
    " 2º - Peça pra ele dizer se foi aprovado ou reprovado no curso de cnh.\n",
    "\n",
    " 3º - Use if e else para verificar se ele tem 18 anos ou mais e se foi aprovado.\n",
    "\n",
    " 4º - Se as condições do passo 3 estiverem certas, print(\"pode dirigir\").\n",
    " \n",
    " 5º - Se não print(\"vai andar a pé\")"
   ]
  },
  {
   "cell_type": "code",
   "execution_count": null,
   "id": "bee9f043",
   "metadata": {},
   "outputs": [],
   "source": [
    "### Seu código aqui\n",
    "\n",
    "idade = int(input(\"Digite sua idade: \"))\n",
    "status = int(input(\"Voce foi passou no curso de cnh (1 para SIM, 2 para NÃO): \"))\n",
    "\n",
    "if idade >= 18 and status == 1:\n",
    "    print(\"Pode dirigir\")\n",
    "else:\n",
    "    print(\"Vai andar a pé\")"
   ]
  },
  {
   "cell_type": "markdown",
   "id": "e9c60d12",
   "metadata": {},
   "source": [
    "Exercício 4 - Calculadora de Desconto. 💵 🤑\n",
    "\n",
    "Uma loja dá 10% de desconto para compras acima de R$ 100,00. Faça um programa que:\n",
    "\n",
    "1º - Pergunta o valor da compra.\n",
    "\n",
    "2º - Calcula o valor final com desconto (se aplicável).\n",
    "\n",
    "3º - Mostra o valor a pagar."
   ]
  },
  {
   "cell_type": "code",
   "execution_count": 4,
   "id": "5edc8855",
   "metadata": {},
   "outputs": [
    {
     "name": "stdout",
     "output_type": "stream",
     "text": [
      "Parabens você ganhou um desconto de 10%, agora o valor total é: 90.9 \n"
     ]
    }
   ],
   "source": [
    "### Seu código aqui\n",
    "\n",
    "valor_total = int(input(\"Digite o valor da sua compra: \"))\n",
    "\n",
    "if valor_total > 100.00:\n",
    "    valor_total = valor_total - (valor_total * 10 / 100)\n",
    "    print(f\"Parabens você ganhou um desconto de 10%, agora o valor total é: {valor_total} \")\n"
   ]
  },
  {
   "cell_type": "markdown",
   "id": "ec96b43c",
   "metadata": {},
   "source": [
    "Exercício 5 - Classificação de Notas 🧑‍🎓\n",
    "\n",
    "Pergunte a nota de um aluno e dependendo da nota que ele informar, o classifique de acordo com as regras abaixo:\n",
    "\n",
    "Classifique a nota do aluno:\n",
    "\n",
    "- 9 até 10: \"Excelente\"\n",
    "\n",
    "- 7 até 8.9: \"Bom\"\n",
    "\n",
    "- 5 até 6.9: \"Regular\"\n",
    "\n",
    "- 0 até 4.9: \"Reprovado\"\n",
    "\n",
    "mostre para o aluno a classificação dele através de um print, exemplo print(\"Excelente\")."
   ]
  },
  {
   "cell_type": "code",
   "execution_count": null,
   "id": "465c6812",
   "metadata": {},
   "outputs": [],
   "source": [
    "nota = float(input(\"Digite sua nota: \"))\n",
    "\n",
    "if nota >= 9 and nota <= 10:\n",
    "    print(\"Excelente!\")\n",
    "elif nota >= 7 and nota <= 8.9:\n",
    "    print(\"Bom\")\n",
    "elif nota >= 5 and nota <= 6.9:\n",
    "    print(\"Regular\")\n",
    "elif nota >= 0 and nota <= 4.9:\n",
    "    print(\"Reprovado\")\n",
    "else:\n",
    "    print(\"Digite uma nota valida\")"
   ]
  },
  {
   "cell_type": "markdown",
   "id": "251b0fa7",
   "metadata": {},
   "source": [
    "Exercício 6 - Acesso ao Sistema 🔑\n",
    "\n",
    "Crie um login simples:\n",
    "\n",
    "- usuario_correto = \"admin\"\n",
    "\n",
    "- senha_correta = \"1234\"\n",
    "\n",
    "**Peça para o usuário digitar primeiro o login e depois a senha, caso login e senha estejam corretos programa deve mostrar \"Acesso permitido\" se não \"Acesso negado\"**\n"
   ]
  },
  {
   "cell_type": "code",
   "execution_count": null,
   "id": "7fcf16db",
   "metadata": {},
   "outputs": [],
   "source": [
    "usuario_correto = \"admin\"\n",
    "senha_correta = \"1234\"\n",
    "\n",
    "usario = float(input(\"Usuario: \"))\n",
    "senha = float(input(\"Senha: \"))\n",
    "\n",
    "if usario == usuario_correto and senha == senha_correta:\n",
    "    print(\"Acesso permitido\")\n",
    "else:\n",
    "    print(\"Acesso negado\")"
   ]
  },
  {
   "cell_type": "markdown",
   "id": "46c27406",
   "metadata": {},
   "source": [
    "Exercício 7 - Maior Número 📉\n",
    "\n",
    "Peça 3 números e mostre qual é o maior deles."
   ]
  },
  {
   "cell_type": "code",
   "execution_count": null,
   "id": "916439ff",
   "metadata": {},
   "outputs": [],
   "source": [
    "x = int(input(\"Digite um numero: \"))\n",
    "y = int(input(\"Digite outro numero: \"))\n",
    "\n",
    "if x > y:\n",
    "    print(f\"{x}(x) é maior que {y}(y)\")\n",
    "elif y  > x:\n",
    "    print(f\"{y}(y) é maior que {x}(x)\")\n",
    "else:\n",
    "    print(\"Numeros iguais\")"
   ]
  },
  {
   "cell_type": "markdown",
   "id": "984fe0fe",
   "metadata": {},
   "source": [
    "Exercício 8 - Dia da Semana\n",
    "Peça um número de 1 a 7 e mostre o dia da semana correspondente: 📅\n",
    "\n",
    "- 1: Domingo\n",
    "\n",
    "- 2: Segunda\n",
    "\n",
    "- ... até 7: Sábado"
   ]
  },
  {
   "cell_type": "code",
   "execution_count": null,
   "id": "1330c12d",
   "metadata": {},
   "outputs": [],
   "source": [
    "dia = int(input(\"Digite o dia da semana (Ex: domingo - 1, sabado - 7)\"))\n",
    "\n",
    "if dia == 1:\n",
    "    print(\"Domingo\")\n",
    "elif dia == 2:\n",
    "    print(\"segunda\")\n",
    "elif dia == 3:\n",
    "    print(\"terca\")\n",
    "elif dia == 4:\n",
    "    print(\"quarta\")\n",
    "elif dia == 5:\n",
    "    print(\"quinta\")\n",
    "elif dia == 6:\n",
    "    print(\"sexta\")\n",
    "elif dia == 7:\n",
    "    print(\"sabado\")\n",
    "else:\n",
    "    print(\"Digite um dia valido.\")"
   ]
  },
  {
   "cell_type": "markdown",
   "id": "f1f760b7",
   "metadata": {},
   "source": [
    "Exercício 9 - Calculadora Simples 📏📐\n",
    "\n",
    "- Faça uma calculadora que:\n",
    "\n",
    "- Pede dois números\n",
    "\n",
    "- Pede a operação (+, -, *, /)\n",
    "\n",
    "- Dependendo da operação mostre o resultado.\n",
    "\n"
   ]
  },
  {
   "cell_type": "code",
   "execution_count": null,
   "id": "95c6ce03",
   "metadata": {},
   "outputs": [],
   "source": [
    "num1 = float(input(\"Digite o 1° numero: \"))\n",
    "num2 = float(input(\"Digite o 2° numero: \"))\n",
    "operador = input(\"Digite o sinal da operação (Ex: '+', '-', '/', '*'): \")\n",
    "\n",
    "if operador == '*':\n",
    "    resultado = num1 * num2\n",
    "    print(f\"{resultado}\")\n",
    "elif operador == '+':\n",
    "    resultado = num1 + num2\n",
    "    print(f\"{resultado}\")\n",
    "elif operador == '/':\n",
    "    resultado = num1 / num2\n",
    "    print(f\"{resultado}\")\n",
    "elif operador == '-':\n",
    "    resultado = num1 - num2\n",
    "    print(f\"{resultado}\")\n"
   ]
  },
  {
   "cell_type": "markdown",
   "id": "f39f6b73",
   "metadata": {},
   "source": [
    "Exercício 10 - Sistema de Multas 🚙🚘🧾\n",
    "\n",
    "\n",
    "- Velocidade máxima: 80 km/h 🚫\n",
    "\n",
    "- Até 80: \"Sem multa\"\n",
    "\n",
    "- 81-100: \"Multa leve\"\n",
    "\n",
    "- Acima de 100: \"Multa grave\""
   ]
  },
  {
   "cell_type": "code",
   "execution_count": null,
   "id": "20fdc977",
   "metadata": {},
   "outputs": [],
   "source": [
    "velocidade = int(input(\"Digite a velocidade que você estava: \"))\n",
    "\n",
    "if velocidade <= 80:\n",
    "    print(\"Sem multa\")\n",
    "elif velocidade >= 81 and velocidade <= 100:\n",
    "    print(\"Multa leve\")\n",
    "else:\n",
    "    print(\"Multa grave!\")"
   ]
  }
 ],
 "metadata": {
  "kernelspec": {
   "display_name": "Python 3",
   "language": "python",
   "name": "python3"
  },
  "language_info": {
   "codemirror_mode": {
    "name": "ipython",
    "version": 3
   },
   "file_extension": ".py",
   "mimetype": "text/x-python",
   "name": "python",
   "nbconvert_exporter": "python",
   "pygments_lexer": "ipython3",
   "version": "3.13.2"
  }
 },
 "nbformat": 4,
 "nbformat_minor": 5
}
